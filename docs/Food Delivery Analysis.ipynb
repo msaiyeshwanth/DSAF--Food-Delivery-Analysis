{
 "cells": [
  {
   "cell_type": "markdown",
   "id": "bc675348-b88c-41ce-bc2c-52bf44dbd097",
   "metadata": {
    "tags": []
   },
   "source": [
    "# How many times drivers take more than 30 mins to arrive at the restaurant?"
   ]
  },
  {
   "cell_type": "markdown",
   "id": "7cca29c6-c225-4f56-bca8-2bfa43e348b9",
   "metadata": {},
   "source": [
    "# Collaborators\n",
    "\n",
    "1. Purva Sushil Firodia, pufi1846@colorado.edu\n",
    "2. Renita Blessina Sathiaraj, resa2241@colorado.edu\n",
    "3. Sai Yeshwanth Mekala, same1856@colorado.edu\n",
    "4. Gagan Chandra Motamarri, gamo6848@colorado.edu"
   ]
  },
  {
   "cell_type": "markdown",
   "id": "a997c0ca-9af1-4b82-84f9-ab150b1e8ef1",
   "metadata": {},
   "source": [
    "# Introduction\n",
    "\n",
    "<p>In today's fast-paced world, the demand for convenience and efficiency in food delivery services has grown exponentially. One of the critical factors that determine the success of any food delivery platform is the time taken by delivery partners to pick up prepared meals from restaurants. This project report aims to delve into this pivotal aspect of the food delivery ecosystem, shedding light on the various factors that influence pickup times, their impact on customer satisfaction, and potential strategies for optimization.</p>\n",
    "\n",
    "<p>The timely pickup of meals from restaurants is the first link in the chain of events that ultimately determines the overall delivery experience. It directly affects customer expectations and plays a significant role in shaping perceptions of the food delivery service. Whether it's a quick weekday lunch, a special dinner order, or a craving for a midnight snack, customers place a premium on the promptness of meal delivery. Hence, understanding and enhancing the efficiency of the pickup process holds paramount importance for food delivery platforms.</p>\n",
    "\n",
    "<p>In this project report, we will explore the multifaceted nature of the pickup process. We will investigate the factors that can influence pickup times, including restaurant location, kitchen preparation times, traffic conditions, and the availability and performance of delivery partners. Through data analysis and case studies, we will highlight the real-world challenges faced by delivery platforms and restaurants in ensuring swift pickups.Furthermore, we will examine the implications of delayed pickups on customer satisfaction and retention rates. Understanding how delivery times impact the customer experience is crucial for food delivery businesses looking to establish a competitive edge in the market. High customer satisfaction not only fosters loyalty but also drives positive reviews and word-of-mouth referrals, which can significantly boost business growth.</p>\n"
   ]
  },
  {
   "cell_type": "markdown",
   "id": "e008378d-9dee-4a84-bf39-32a86fa37cb7",
   "metadata": {},
   "source": [
    "# Statement of Question\n",
    "How many times drivers take more than 30 mins to arrive at the restaurant?"
   ]
  },
  {
   "cell_type": "markdown",
   "id": "1e7f39df-21ec-48bc-8e46-3922dc69f67f",
   "metadata": {},
   "source": [
    "# Possible Sources of Bias\n",
    "**1. Location Bias:**\n",
    "Drivers may have biases towards or against certain delivery locations based on factors such as safety concerns, familiarity, or perceived tipping habits. This bias can lead to delays or selective acceptance of orders. \\\n",
    "**2. Customer Bias:**\n",
    "Drivers may have biases toward specific customers. They may prioritize deliveries to customers they know or perceive as more generous with tips, potentially leaving other customers waiting longer.\\\n",
    "**3. Time-of-Day Bias:** \n",
    "Drivers may have preferences for working during specific times of the day or week. This can lead to bias in terms of order acceptance and delivery times, as drivers may prioritize certain shifts.\\\n",
    "**4. Weather Bias:** \n",
    "Weather conditions can impact driver behavior. They may be more likely to decline orders during adverse weather, leading to longer wait times for customers.\\\n",
    "**5. Operational Bias:** \n",
    "Bias can occur in the allocation of resources and operational decisions. For example, if a food delivery platform prioritizes profitability over service quality, it can lead to biased decisions that favor cost-cutting at the expense of timely deliveries."
   ]
  },
  {
   "cell_type": "markdown",
   "id": "59071b51-1f68-48c5-8a9f-e64dea0ef18d",
   "metadata": {},
   "source": [
    "# About the Dataset\n",
    "\n",
    "Call Center Restaurant Orders Dataset\n",
    "\n",
    "### Source link: \n",
    "[Dataset source link](https://fp20analytics.com/datasets)\n",
    "\n",
    "This dataset contains details of the order placed by the customers. In the below cell we can find the sample of the dataset with all the columns(details of the order).\n",
    "\n",
    "### Link to dataset on github\n",
    "[Dataset](https://github.com/msaiyeshwanth/DSAF--Food-Delivery-Analysis/blob/main/call-center_restaurant-orders-mv0x6oRrEEfBDJzn.xlsx)"
   ]
  },
  {
   "cell_type": "markdown",
   "id": "3c6884dd-0089-4dd1-99e8-4575eaebeedc",
   "metadata": {},
   "source": [
    "# Procedure:"
   ]
  },
  {
   "cell_type": "code",
   "execution_count": 1,
   "id": "9af468c0-5c2e-459a-a52e-d308ea48ccde",
   "metadata": {},
   "outputs": [
    {
     "data": {
      "text/html": [
       "<div>\n",
       "<style scoped>\n",
       "    .dataframe tbody tr th:only-of-type {\n",
       "        vertical-align: middle;\n",
       "    }\n",
       "\n",
       "    .dataframe tbody tr th {\n",
       "        vertical-align: top;\n",
       "    }\n",
       "\n",
       "    .dataframe thead th {\n",
       "        text-align: right;\n",
       "    }\n",
       "</style>\n",
       "<table border=\"1\" class=\"dataframe\">\n",
       "  <thead>\n",
       "    <tr style=\"text-align: right;\">\n",
       "      <th></th>\n",
       "      <th>Date</th>\n",
       "      <th>Time customer placed order</th>\n",
       "      <th>Time order placed at restaurant</th>\n",
       "      <th>Time driver arrived at restaurant</th>\n",
       "      <th>Delivery time</th>\n",
       "      <th>Driver ID</th>\n",
       "      <th>Driver Name</th>\n",
       "      <th>Restaurant ID</th>\n",
       "      <th>Customer ID</th>\n",
       "      <th>Delivery Area</th>\n",
       "      <th>ASAP</th>\n",
       "      <th>Sub Total</th>\n",
       "      <th>Delivery fee</th>\n",
       "      <th>Service fee</th>\n",
       "      <th>Discount</th>\n",
       "      <th>Tip</th>\n",
       "      <th>Refunded amount</th>\n",
       "    </tr>\n",
       "  </thead>\n",
       "  <tbody>\n",
       "    <tr>\n",
       "      <th>0</th>\n",
       "      <td>2020-01-01</td>\n",
       "      <td>02:52:12</td>\n",
       "      <td>03:00:25</td>\n",
       "      <td>03:08:09</td>\n",
       "      <td>03:35:20</td>\n",
       "      <td>9329</td>\n",
       "      <td>Christy</td>\n",
       "      <td>7263</td>\n",
       "      <td>1143515</td>\n",
       "      <td>Fremont</td>\n",
       "      <td>Yes</td>\n",
       "      <td>$21.39</td>\n",
       "      <td>$0.43</td>\n",
       "      <td>$3.83</td>\n",
       "      <td>$2.00</td>\n",
       "      <td>$1.40</td>\n",
       "      <td>$0.00</td>\n",
       "    </tr>\n",
       "    <tr>\n",
       "      <th>1</th>\n",
       "      <td>2020-01-01</td>\n",
       "      <td>15:58:57</td>\n",
       "      <td>17:56:45</td>\n",
       "      <td>18:24:39</td>\n",
       "      <td>18:57:01</td>\n",
       "      <td>9175</td>\n",
       "      <td>Elizabeth</td>\n",
       "      <td>7247</td>\n",
       "      <td>1136820</td>\n",
       "      <td>Hayward</td>\n",
       "      <td>Yes</td>\n",
       "      <td>$99.74</td>\n",
       "      <td>$6.05</td>\n",
       "      <td>$2.30</td>\n",
       "      <td>$2.00</td>\n",
       "      <td>$11.03</td>\n",
       "      <td>$0.00</td>\n",
       "    </tr>\n",
       "    <tr>\n",
       "      <th>2</th>\n",
       "      <td>2020-01-01</td>\n",
       "      <td>19:02:37</td>\n",
       "      <td>19:12:51</td>\n",
       "      <td>19:19:59</td>\n",
       "      <td>19:31:09</td>\n",
       "      <td>9051</td>\n",
       "      <td>Janet</td>\n",
       "      <td>7293</td>\n",
       "      <td>1081871</td>\n",
       "      <td>Hayward</td>\n",
       "      <td>Yes</td>\n",
       "      <td>$21.97</td>\n",
       "      <td>$2.74</td>\n",
       "      <td>$2.39</td>\n",
       "      <td>$8.00</td>\n",
       "      <td>$4.31</td>\n",
       "      <td>$0.00</td>\n",
       "    </tr>\n",
       "    <tr>\n",
       "      <th>3</th>\n",
       "      <td>2020-01-01</td>\n",
       "      <td>04:01:57</td>\n",
       "      <td>04:08:18</td>\n",
       "      <td>04:13:02</td>\n",
       "      <td>04:37:57</td>\n",
       "      <td>9389</td>\n",
       "      <td>Jacquelyn</td>\n",
       "      <td>7046</td>\n",
       "      <td>1128255</td>\n",
       "      <td>Union City</td>\n",
       "      <td>Yes</td>\n",
       "      <td>$32.79</td>\n",
       "      <td>$0.12</td>\n",
       "      <td>$2.55</td>\n",
       "      <td>$2.00</td>\n",
       "      <td>$8.55</td>\n",
       "      <td>$0.00</td>\n",
       "    </tr>\n",
       "    <tr>\n",
       "      <th>4</th>\n",
       "      <td>2020-01-01</td>\n",
       "      <td>23:46:38</td>\n",
       "      <td>23:49:32</td>\n",
       "      <td>23:54:29</td>\n",
       "      <td>00:37:15</td>\n",
       "      <td>9187</td>\n",
       "      <td>Lauren</td>\n",
       "      <td>7385</td>\n",
       "      <td>1051183</td>\n",
       "      <td>Hayward</td>\n",
       "      <td>Yes</td>\n",
       "      <td>$67.56</td>\n",
       "      <td>$3.77</td>\n",
       "      <td>$3.35</td>\n",
       "      <td>$2.00</td>\n",
       "      <td>$8.82</td>\n",
       "      <td>$0.00</td>\n",
       "    </tr>\n",
       "  </tbody>\n",
       "</table>\n",
       "</div>"
      ],
      "text/plain": [
       "        Date Time customer placed order Time order placed at restaurant  \\\n",
       "0 2020-01-01                   02:52:12                        03:00:25   \n",
       "1 2020-01-01                   15:58:57                        17:56:45   \n",
       "2 2020-01-01                   19:02:37                        19:12:51   \n",
       "3 2020-01-01                   04:01:57                        04:08:18   \n",
       "4 2020-01-01                   23:46:38                        23:49:32   \n",
       "\n",
       "  Time driver arrived at restaurant Delivery time  Driver ID Driver Name  \\\n",
       "0                          03:08:09      03:35:20       9329     Christy   \n",
       "1                          18:24:39      18:57:01       9175   Elizabeth   \n",
       "2                          19:19:59      19:31:09       9051       Janet   \n",
       "3                          04:13:02      04:37:57       9389   Jacquelyn   \n",
       "4                          23:54:29      00:37:15       9187      Lauren   \n",
       "\n",
       "   Restaurant ID  Customer ID Delivery Area ASAP Sub Total Delivery fee  \\\n",
       "0           7263      1143515       Fremont  Yes    $21.39        $0.43   \n",
       "1           7247      1136820       Hayward  Yes    $99.74        $6.05   \n",
       "2           7293      1081871       Hayward  Yes    $21.97        $2.74   \n",
       "3           7046      1128255    Union City  Yes    $32.79        $0.12   \n",
       "4           7385      1051183       Hayward  Yes    $67.56        $3.77   \n",
       "\n",
       "  Service fee Discount     Tip Refunded amount  \n",
       "0       $3.83    $2.00   $1.40           $0.00  \n",
       "1       $2.30    $2.00  $11.03           $0.00  \n",
       "2       $2.39    $8.00   $4.31           $0.00  \n",
       "3       $2.55    $2.00   $8.55           $0.00  \n",
       "4       $3.35    $2.00   $8.82           $0.00  "
      ]
     },
     "execution_count": 1,
     "metadata": {},
     "output_type": "execute_result"
    }
   ],
   "source": [
    "import pandas as pd\n",
    "df = pd.read_excel('call-center_restaurant-orders-mv0x6oRrEEfBDJzn.xlsx')\n",
    "df.head()"
   ]
  },
  {
   "cell_type": "markdown",
   "id": "b5945dab-0edd-4881-a521-fcf32993422f",
   "metadata": {},
   "source": [
    "## Renaming the columns for consistency"
   ]
  },
  {
   "cell_type": "code",
   "execution_count": 2,
   "id": "28653791-7b50-46ef-9f08-c1e24e642c5e",
   "metadata": {
    "tags": []
   },
   "outputs": [
    {
     "data": {
      "text/html": [
       "<div>\n",
       "<style scoped>\n",
       "    .dataframe tbody tr th:only-of-type {\n",
       "        vertical-align: middle;\n",
       "    }\n",
       "\n",
       "    .dataframe tbody tr th {\n",
       "        vertical-align: top;\n",
       "    }\n",
       "\n",
       "    .dataframe thead th {\n",
       "        text-align: right;\n",
       "    }\n",
       "</style>\n",
       "<table border=\"1\" class=\"dataframe\">\n",
       "  <thead>\n",
       "    <tr style=\"text-align: right;\">\n",
       "      <th></th>\n",
       "      <th>DATE</th>\n",
       "      <th>TIME_CUSTOMER_PLACED_ORDER</th>\n",
       "      <th>TIME_ORDER_PLACED_AT_RESTAURANT</th>\n",
       "      <th>TIME_DRIVER_ARRIVED_AT_RESTAURANT</th>\n",
       "      <th>DELIVERY_TIME</th>\n",
       "      <th>DRIVER_ID</th>\n",
       "      <th>DRIVER_NAME</th>\n",
       "      <th>RESTAURANT_ID</th>\n",
       "      <th>CUSTOMER_ID</th>\n",
       "      <th>DELIVERY_AREA</th>\n",
       "      <th>ASAP</th>\n",
       "      <th>SUB_TOTAL</th>\n",
       "      <th>DELIVERY_FEE</th>\n",
       "      <th>SERVICE_FEE</th>\n",
       "      <th>DISCOUNT</th>\n",
       "      <th>TIP</th>\n",
       "      <th>REFUNDED_AMOUNT</th>\n",
       "    </tr>\n",
       "  </thead>\n",
       "  <tbody>\n",
       "    <tr>\n",
       "      <th>0</th>\n",
       "      <td>2020-01-01</td>\n",
       "      <td>02:52:12</td>\n",
       "      <td>03:00:25</td>\n",
       "      <td>03:08:09</td>\n",
       "      <td>03:35:20</td>\n",
       "      <td>9329</td>\n",
       "      <td>Christy</td>\n",
       "      <td>7263</td>\n",
       "      <td>1143515</td>\n",
       "      <td>Fremont</td>\n",
       "      <td>Yes</td>\n",
       "      <td>$21.39</td>\n",
       "      <td>$0.43</td>\n",
       "      <td>$3.83</td>\n",
       "      <td>$2.00</td>\n",
       "      <td>$1.40</td>\n",
       "      <td>$0.00</td>\n",
       "    </tr>\n",
       "    <tr>\n",
       "      <th>1</th>\n",
       "      <td>2020-01-01</td>\n",
       "      <td>15:58:57</td>\n",
       "      <td>17:56:45</td>\n",
       "      <td>18:24:39</td>\n",
       "      <td>18:57:01</td>\n",
       "      <td>9175</td>\n",
       "      <td>Elizabeth</td>\n",
       "      <td>7247</td>\n",
       "      <td>1136820</td>\n",
       "      <td>Hayward</td>\n",
       "      <td>Yes</td>\n",
       "      <td>$99.74</td>\n",
       "      <td>$6.05</td>\n",
       "      <td>$2.30</td>\n",
       "      <td>$2.00</td>\n",
       "      <td>$11.03</td>\n",
       "      <td>$0.00</td>\n",
       "    </tr>\n",
       "    <tr>\n",
       "      <th>2</th>\n",
       "      <td>2020-01-01</td>\n",
       "      <td>19:02:37</td>\n",
       "      <td>19:12:51</td>\n",
       "      <td>19:19:59</td>\n",
       "      <td>19:31:09</td>\n",
       "      <td>9051</td>\n",
       "      <td>Janet</td>\n",
       "      <td>7293</td>\n",
       "      <td>1081871</td>\n",
       "      <td>Hayward</td>\n",
       "      <td>Yes</td>\n",
       "      <td>$21.97</td>\n",
       "      <td>$2.74</td>\n",
       "      <td>$2.39</td>\n",
       "      <td>$8.00</td>\n",
       "      <td>$4.31</td>\n",
       "      <td>$0.00</td>\n",
       "    </tr>\n",
       "    <tr>\n",
       "      <th>3</th>\n",
       "      <td>2020-01-01</td>\n",
       "      <td>04:01:57</td>\n",
       "      <td>04:08:18</td>\n",
       "      <td>04:13:02</td>\n",
       "      <td>04:37:57</td>\n",
       "      <td>9389</td>\n",
       "      <td>Jacquelyn</td>\n",
       "      <td>7046</td>\n",
       "      <td>1128255</td>\n",
       "      <td>Union City</td>\n",
       "      <td>Yes</td>\n",
       "      <td>$32.79</td>\n",
       "      <td>$0.12</td>\n",
       "      <td>$2.55</td>\n",
       "      <td>$2.00</td>\n",
       "      <td>$8.55</td>\n",
       "      <td>$0.00</td>\n",
       "    </tr>\n",
       "    <tr>\n",
       "      <th>4</th>\n",
       "      <td>2020-01-01</td>\n",
       "      <td>23:46:38</td>\n",
       "      <td>23:49:32</td>\n",
       "      <td>23:54:29</td>\n",
       "      <td>00:37:15</td>\n",
       "      <td>9187</td>\n",
       "      <td>Lauren</td>\n",
       "      <td>7385</td>\n",
       "      <td>1051183</td>\n",
       "      <td>Hayward</td>\n",
       "      <td>Yes</td>\n",
       "      <td>$67.56</td>\n",
       "      <td>$3.77</td>\n",
       "      <td>$3.35</td>\n",
       "      <td>$2.00</td>\n",
       "      <td>$8.82</td>\n",
       "      <td>$0.00</td>\n",
       "    </tr>\n",
       "  </tbody>\n",
       "</table>\n",
       "</div>"
      ],
      "text/plain": [
       "        DATE TIME_CUSTOMER_PLACED_ORDER TIME_ORDER_PLACED_AT_RESTAURANT  \\\n",
       "0 2020-01-01                   02:52:12                        03:00:25   \n",
       "1 2020-01-01                   15:58:57                        17:56:45   \n",
       "2 2020-01-01                   19:02:37                        19:12:51   \n",
       "3 2020-01-01                   04:01:57                        04:08:18   \n",
       "4 2020-01-01                   23:46:38                        23:49:32   \n",
       "\n",
       "  TIME_DRIVER_ARRIVED_AT_RESTAURANT DELIVERY_TIME  DRIVER_ID DRIVER_NAME  \\\n",
       "0                          03:08:09      03:35:20       9329     Christy   \n",
       "1                          18:24:39      18:57:01       9175   Elizabeth   \n",
       "2                          19:19:59      19:31:09       9051       Janet   \n",
       "3                          04:13:02      04:37:57       9389   Jacquelyn   \n",
       "4                          23:54:29      00:37:15       9187      Lauren   \n",
       "\n",
       "   RESTAURANT_ID  CUSTOMER_ID DELIVERY_AREA ASAP SUB_TOTAL DELIVERY_FEE  \\\n",
       "0           7263      1143515       Fremont  Yes    $21.39        $0.43   \n",
       "1           7247      1136820       Hayward  Yes    $99.74        $6.05   \n",
       "2           7293      1081871       Hayward  Yes    $21.97        $2.74   \n",
       "3           7046      1128255    Union City  Yes    $32.79        $0.12   \n",
       "4           7385      1051183       Hayward  Yes    $67.56        $3.77   \n",
       "\n",
       "  SERVICE_FEE DISCOUNT     TIP REFUNDED_AMOUNT  \n",
       "0       $3.83    $2.00   $1.40           $0.00  \n",
       "1       $2.30    $2.00  $11.03           $0.00  \n",
       "2       $2.39    $8.00   $4.31           $0.00  \n",
       "3       $2.55    $2.00   $8.55           $0.00  \n",
       "4       $3.35    $2.00   $8.82           $0.00  "
      ]
     },
     "execution_count": 2,
     "metadata": {},
     "output_type": "execute_result"
    }
   ],
   "source": [
    "df.columns = ['DATE', 'TIME_CUSTOMER_PLACED_ORDER', 'TIME_ORDER_PLACED_AT_RESTAURANT', \n",
    "              'TIME_DRIVER_ARRIVED_AT_RESTAURANT', 'DELIVERY_TIME', 'DRIVER_ID',\n",
    "              'DRIVER_NAME', 'RESTAURANT_ID', 'CUSTOMER_ID', 'DELIVERY_AREA', 'ASAP',\n",
    "              'SUB_TOTAL', 'DELIVERY_FEE', 'SERVICE_FEE', 'DISCOUNT', 'TIP', \n",
    "              'REFUNDED_AMOUNT']\n",
    "df.head()"
   ]
  },
  {
   "cell_type": "markdown",
   "id": "8b42258c-600e-43b7-a1e4-d1b02bceac35",
   "metadata": {},
   "source": [
    "## Removing the Dollar sign "
   ]
  },
  {
   "cell_type": "code",
   "execution_count": 3,
   "id": "80b7cc9e-dfca-4464-89d8-2a6d2d542c35",
   "metadata": {
    "tags": []
   },
   "outputs": [],
   "source": [
    "df['SUB_TOTAL'] = df['SUB_TOTAL'].str.replace('$', '')\n",
    "df['DELIVERY_FEE'] = df['DELIVERY_FEE'].str.replace('$', '')\n",
    "df['SERVICE_FEE'] = df['SERVICE_FEE'].str.replace('$', '')\n",
    "df['DISCOUNT'] = df['DISCOUNT'].str.replace('$', '')\n",
    "df['TIP'] = df['TIP'].str.replace('$', '')\n",
    "df['REFUNDED_AMOUNT'] = df['REFUNDED_AMOUNT'].str.replace('$', '')"
   ]
  },
  {
   "cell_type": "code",
   "execution_count": 4,
   "id": "8198cac2-aa9f-4d5f-9937-815dc6ccfb2e",
   "metadata": {
    "tags": []
   },
   "outputs": [
    {
     "data": {
      "text/html": [
       "<div>\n",
       "<style scoped>\n",
       "    .dataframe tbody tr th:only-of-type {\n",
       "        vertical-align: middle;\n",
       "    }\n",
       "\n",
       "    .dataframe tbody tr th {\n",
       "        vertical-align: top;\n",
       "    }\n",
       "\n",
       "    .dataframe thead th {\n",
       "        text-align: right;\n",
       "    }\n",
       "</style>\n",
       "<table border=\"1\" class=\"dataframe\">\n",
       "  <thead>\n",
       "    <tr style=\"text-align: right;\">\n",
       "      <th></th>\n",
       "      <th>DATE</th>\n",
       "      <th>TIME_CUSTOMER_PLACED_ORDER</th>\n",
       "      <th>TIME_ORDER_PLACED_AT_RESTAURANT</th>\n",
       "      <th>TIME_DRIVER_ARRIVED_AT_RESTAURANT</th>\n",
       "      <th>DELIVERY_TIME</th>\n",
       "      <th>DRIVER_ID</th>\n",
       "      <th>DRIVER_NAME</th>\n",
       "      <th>RESTAURANT_ID</th>\n",
       "      <th>CUSTOMER_ID</th>\n",
       "      <th>DELIVERY_AREA</th>\n",
       "      <th>ASAP</th>\n",
       "      <th>SUB_TOTAL</th>\n",
       "      <th>DELIVERY_FEE</th>\n",
       "      <th>SERVICE_FEE</th>\n",
       "      <th>DISCOUNT</th>\n",
       "      <th>TIP</th>\n",
       "      <th>REFUNDED_AMOUNT</th>\n",
       "    </tr>\n",
       "  </thead>\n",
       "  <tbody>\n",
       "    <tr>\n",
       "      <th>0</th>\n",
       "      <td>2020-01-01</td>\n",
       "      <td>02:52:12</td>\n",
       "      <td>03:00:25</td>\n",
       "      <td>03:08:09</td>\n",
       "      <td>03:35:20</td>\n",
       "      <td>9329</td>\n",
       "      <td>Christy</td>\n",
       "      <td>7263</td>\n",
       "      <td>1143515</td>\n",
       "      <td>Fremont</td>\n",
       "      <td>Yes</td>\n",
       "      <td>21.39</td>\n",
       "      <td>0.43</td>\n",
       "      <td>3.83</td>\n",
       "      <td>2.00</td>\n",
       "      <td>1.40</td>\n",
       "      <td>0.00</td>\n",
       "    </tr>\n",
       "    <tr>\n",
       "      <th>1</th>\n",
       "      <td>2020-01-01</td>\n",
       "      <td>15:58:57</td>\n",
       "      <td>17:56:45</td>\n",
       "      <td>18:24:39</td>\n",
       "      <td>18:57:01</td>\n",
       "      <td>9175</td>\n",
       "      <td>Elizabeth</td>\n",
       "      <td>7247</td>\n",
       "      <td>1136820</td>\n",
       "      <td>Hayward</td>\n",
       "      <td>Yes</td>\n",
       "      <td>99.74</td>\n",
       "      <td>6.05</td>\n",
       "      <td>2.30</td>\n",
       "      <td>2.00</td>\n",
       "      <td>11.03</td>\n",
       "      <td>0.00</td>\n",
       "    </tr>\n",
       "    <tr>\n",
       "      <th>2</th>\n",
       "      <td>2020-01-01</td>\n",
       "      <td>19:02:37</td>\n",
       "      <td>19:12:51</td>\n",
       "      <td>19:19:59</td>\n",
       "      <td>19:31:09</td>\n",
       "      <td>9051</td>\n",
       "      <td>Janet</td>\n",
       "      <td>7293</td>\n",
       "      <td>1081871</td>\n",
       "      <td>Hayward</td>\n",
       "      <td>Yes</td>\n",
       "      <td>21.97</td>\n",
       "      <td>2.74</td>\n",
       "      <td>2.39</td>\n",
       "      <td>8.00</td>\n",
       "      <td>4.31</td>\n",
       "      <td>0.00</td>\n",
       "    </tr>\n",
       "    <tr>\n",
       "      <th>3</th>\n",
       "      <td>2020-01-01</td>\n",
       "      <td>04:01:57</td>\n",
       "      <td>04:08:18</td>\n",
       "      <td>04:13:02</td>\n",
       "      <td>04:37:57</td>\n",
       "      <td>9389</td>\n",
       "      <td>Jacquelyn</td>\n",
       "      <td>7046</td>\n",
       "      <td>1128255</td>\n",
       "      <td>Union City</td>\n",
       "      <td>Yes</td>\n",
       "      <td>32.79</td>\n",
       "      <td>0.12</td>\n",
       "      <td>2.55</td>\n",
       "      <td>2.00</td>\n",
       "      <td>8.55</td>\n",
       "      <td>0.00</td>\n",
       "    </tr>\n",
       "    <tr>\n",
       "      <th>4</th>\n",
       "      <td>2020-01-01</td>\n",
       "      <td>23:46:38</td>\n",
       "      <td>23:49:32</td>\n",
       "      <td>23:54:29</td>\n",
       "      <td>00:37:15</td>\n",
       "      <td>9187</td>\n",
       "      <td>Lauren</td>\n",
       "      <td>7385</td>\n",
       "      <td>1051183</td>\n",
       "      <td>Hayward</td>\n",
       "      <td>Yes</td>\n",
       "      <td>67.56</td>\n",
       "      <td>3.77</td>\n",
       "      <td>3.35</td>\n",
       "      <td>2.00</td>\n",
       "      <td>8.82</td>\n",
       "      <td>0.00</td>\n",
       "    </tr>\n",
       "  </tbody>\n",
       "</table>\n",
       "</div>"
      ],
      "text/plain": [
       "        DATE TIME_CUSTOMER_PLACED_ORDER TIME_ORDER_PLACED_AT_RESTAURANT  \\\n",
       "0 2020-01-01                   02:52:12                        03:00:25   \n",
       "1 2020-01-01                   15:58:57                        17:56:45   \n",
       "2 2020-01-01                   19:02:37                        19:12:51   \n",
       "3 2020-01-01                   04:01:57                        04:08:18   \n",
       "4 2020-01-01                   23:46:38                        23:49:32   \n",
       "\n",
       "  TIME_DRIVER_ARRIVED_AT_RESTAURANT DELIVERY_TIME  DRIVER_ID DRIVER_NAME  \\\n",
       "0                          03:08:09      03:35:20       9329     Christy   \n",
       "1                          18:24:39      18:57:01       9175   Elizabeth   \n",
       "2                          19:19:59      19:31:09       9051       Janet   \n",
       "3                          04:13:02      04:37:57       9389   Jacquelyn   \n",
       "4                          23:54:29      00:37:15       9187      Lauren   \n",
       "\n",
       "   RESTAURANT_ID  CUSTOMER_ID DELIVERY_AREA ASAP SUB_TOTAL DELIVERY_FEE  \\\n",
       "0           7263      1143515       Fremont  Yes     21.39         0.43   \n",
       "1           7247      1136820       Hayward  Yes     99.74         6.05   \n",
       "2           7293      1081871       Hayward  Yes     21.97         2.74   \n",
       "3           7046      1128255    Union City  Yes     32.79         0.12   \n",
       "4           7385      1051183       Hayward  Yes     67.56         3.77   \n",
       "\n",
       "  SERVICE_FEE DISCOUNT    TIP REFUNDED_AMOUNT  \n",
       "0        3.83     2.00   1.40            0.00  \n",
       "1        2.30     2.00  11.03            0.00  \n",
       "2        2.39     8.00   4.31            0.00  \n",
       "3        2.55     2.00   8.55            0.00  \n",
       "4        3.35     2.00   8.82            0.00  "
      ]
     },
     "execution_count": 4,
     "metadata": {},
     "output_type": "execute_result"
    }
   ],
   "source": [
    "df.head()"
   ]
  },
  {
   "cell_type": "code",
   "execution_count": 5,
   "id": "51186889-dc31-49f5-92ee-682a8362078a",
   "metadata": {
    "tags": []
   },
   "outputs": [
    {
     "data": {
      "text/plain": [
       "(72314, 17)"
      ]
     },
     "execution_count": 5,
     "metadata": {},
     "output_type": "execute_result"
    }
   ],
   "source": [
    "df.shape"
   ]
  },
  {
   "cell_type": "markdown",
   "id": "4c7055d9-cd49-4710-b281-8933907fa525",
   "metadata": {},
   "source": [
    "# Dealing missing values"
   ]
  },
  {
   "cell_type": "code",
   "execution_count": 6,
   "id": "74d4ae1a-2d04-4726-b48e-325d3ffb7812",
   "metadata": {
    "tags": []
   },
   "outputs": [
    {
     "data": {
      "text/plain": [
       "DATE                                     0\n",
       "TIME_CUSTOMER_PLACED_ORDER               0\n",
       "TIME_ORDER_PLACED_AT_RESTAURANT        160\n",
       "TIME_DRIVER_ARRIVED_AT_RESTAURANT    18124\n",
       "DELIVERY_TIME                            0\n",
       "DRIVER_ID                                0\n",
       "DRIVER_NAME                              0\n",
       "RESTAURANT_ID                            0\n",
       "CUSTOMER_ID                              0\n",
       "DELIVERY_AREA                            0\n",
       "ASAP                                     0\n",
       "SUB_TOTAL                                0\n",
       "DELIVERY_FEE                             0\n",
       "SERVICE_FEE                              0\n",
       "DISCOUNT                                 0\n",
       "TIP                                      0\n",
       "REFUNDED_AMOUNT                          0\n",
       "dtype: int64"
      ]
     },
     "execution_count": 6,
     "metadata": {},
     "output_type": "execute_result"
    }
   ],
   "source": [
    "df.isna().sum()"
   ]
  },
  {
   "cell_type": "code",
   "execution_count": 7,
   "id": "f1daaad5-3e7a-40b2-8315-bfb6c8ee6630",
   "metadata": {
    "tags": []
   },
   "outputs": [],
   "source": [
    "df=df.dropna()"
   ]
  },
  {
   "cell_type": "code",
   "execution_count": 8,
   "id": "2e0e5bd1-8a40-4d6c-86cc-d3003dfa3c63",
   "metadata": {
    "tags": []
   },
   "outputs": [
    {
     "data": {
      "text/plain": [
       "(54098, 17)"
      ]
     },
     "execution_count": 8,
     "metadata": {},
     "output_type": "execute_result"
    }
   ],
   "source": [
    "df.shape"
   ]
  },
  {
   "cell_type": "code",
   "execution_count": 9,
   "id": "a101fded-2fdc-4dfa-9266-9e1f62043101",
   "metadata": {
    "tags": []
   },
   "outputs": [
    {
     "data": {
      "text/plain": [
       "DATE                                 0\n",
       "TIME_CUSTOMER_PLACED_ORDER           0\n",
       "TIME_ORDER_PLACED_AT_RESTAURANT      0\n",
       "TIME_DRIVER_ARRIVED_AT_RESTAURANT    0\n",
       "DELIVERY_TIME                        0\n",
       "DRIVER_ID                            0\n",
       "DRIVER_NAME                          0\n",
       "RESTAURANT_ID                        0\n",
       "CUSTOMER_ID                          0\n",
       "DELIVERY_AREA                        0\n",
       "ASAP                                 0\n",
       "SUB_TOTAL                            0\n",
       "DELIVERY_FEE                         0\n",
       "SERVICE_FEE                          0\n",
       "DISCOUNT                             0\n",
       "TIP                                  0\n",
       "REFUNDED_AMOUNT                      0\n",
       "dtype: int64"
      ]
     },
     "execution_count": 9,
     "metadata": {},
     "output_type": "execute_result"
    }
   ],
   "source": [
    "df.isna().sum()"
   ]
  },
  {
   "cell_type": "markdown",
   "id": "8762eb4b-8e3f-4d0e-911e-6e3ee6b38b26",
   "metadata": {},
   "source": [
    "# Defining Function to calculate time difference in seconds"
   ]
  },
  {
   "cell_type": "code",
   "execution_count": 10,
   "id": "440eccfa-72e2-4ff9-b1a9-c4138ad311ce",
   "metadata": {
    "tags": []
   },
   "outputs": [],
   "source": [
    "def calculate_time_difference(row):\n",
    "    order_time = row['TIME_ORDER_PLACED_AT_RESTAURANT']\n",
    "    driver_time = row['TIME_DRIVER_ARRIVED_AT_RESTAURANT']\n",
    "    \n",
    "    time_diff_seconds = (driver_time.hour * 3600 + driver_time.minute * 60 + driver_time.second) - \\\n",
    "                        (order_time.hour * 3600 + order_time.minute * 60 + order_time.second)\n",
    "    \n",
    "    return time_diff_seconds"
   ]
  },
  {
   "cell_type": "markdown",
   "id": "29c6d029-453f-46cb-9872-d7565bbb456b",
   "metadata": {},
   "source": [
    "# Calculating time taken by the drive to arrive at the restaurant in Seconds and Minutes and creating new columns"
   ]
  },
  {
   "cell_type": "code",
   "execution_count": 11,
   "id": "c18d8579-2da0-40af-a88e-88567905b106",
   "metadata": {
    "tags": []
   },
   "outputs": [
    {
     "data": {
      "text/html": [
       "<div>\n",
       "<style scoped>\n",
       "    .dataframe tbody tr th:only-of-type {\n",
       "        vertical-align: middle;\n",
       "    }\n",
       "\n",
       "    .dataframe tbody tr th {\n",
       "        vertical-align: top;\n",
       "    }\n",
       "\n",
       "    .dataframe thead th {\n",
       "        text-align: right;\n",
       "    }\n",
       "</style>\n",
       "<table border=\"1\" class=\"dataframe\">\n",
       "  <thead>\n",
       "    <tr style=\"text-align: right;\">\n",
       "      <th></th>\n",
       "      <th>TIME_ORDER_PLACED_AT_RESTAURANT</th>\n",
       "      <th>TIME_DRIVER_ARRIVED_AT_RESTAURANT</th>\n",
       "      <th>TIME_TAKEN_BY_DRIVER_TO_ARRIVE_AT_THE_RESTAURANT_SECONDS</th>\n",
       "      <th>TIME_TAKEN_BY_DRIVER_TO_ARRIVE_AT_THE_RESTAURANT_MINUTES</th>\n",
       "    </tr>\n",
       "  </thead>\n",
       "  <tbody>\n",
       "    <tr>\n",
       "      <th>0</th>\n",
       "      <td>03:00:25</td>\n",
       "      <td>03:08:09</td>\n",
       "      <td>464</td>\n",
       "      <td>7.733333</td>\n",
       "    </tr>\n",
       "    <tr>\n",
       "      <th>1</th>\n",
       "      <td>17:56:45</td>\n",
       "      <td>18:24:39</td>\n",
       "      <td>1674</td>\n",
       "      <td>27.900000</td>\n",
       "    </tr>\n",
       "    <tr>\n",
       "      <th>2</th>\n",
       "      <td>19:12:51</td>\n",
       "      <td>19:19:59</td>\n",
       "      <td>428</td>\n",
       "      <td>7.133333</td>\n",
       "    </tr>\n",
       "    <tr>\n",
       "      <th>3</th>\n",
       "      <td>04:08:18</td>\n",
       "      <td>04:13:02</td>\n",
       "      <td>284</td>\n",
       "      <td>4.733333</td>\n",
       "    </tr>\n",
       "    <tr>\n",
       "      <th>4</th>\n",
       "      <td>23:49:32</td>\n",
       "      <td>23:54:29</td>\n",
       "      <td>297</td>\n",
       "      <td>4.950000</td>\n",
       "    </tr>\n",
       "  </tbody>\n",
       "</table>\n",
       "</div>"
      ],
      "text/plain": [
       "  TIME_ORDER_PLACED_AT_RESTAURANT TIME_DRIVER_ARRIVED_AT_RESTAURANT  \\\n",
       "0                        03:00:25                          03:08:09   \n",
       "1                        17:56:45                          18:24:39   \n",
       "2                        19:12:51                          19:19:59   \n",
       "3                        04:08:18                          04:13:02   \n",
       "4                        23:49:32                          23:54:29   \n",
       "\n",
       "   TIME_TAKEN_BY_DRIVER_TO_ARRIVE_AT_THE_RESTAURANT_SECONDS  \\\n",
       "0                                                464          \n",
       "1                                               1674          \n",
       "2                                                428          \n",
       "3                                                284          \n",
       "4                                                297          \n",
       "\n",
       "   TIME_TAKEN_BY_DRIVER_TO_ARRIVE_AT_THE_RESTAURANT_MINUTES  \n",
       "0                                           7.733333         \n",
       "1                                          27.900000         \n",
       "2                                           7.133333         \n",
       "3                                           4.733333         \n",
       "4                                           4.950000         "
      ]
     },
     "execution_count": 11,
     "metadata": {},
     "output_type": "execute_result"
    }
   ],
   "source": [
    "df['TIME_ORDER_PLACED_AT_RESTAURANT'] = pd.to_datetime(df['TIME_ORDER_PLACED_AT_RESTAURANT'], format='%H:%M:%S').dt.time\n",
    "df['TIME_DRIVER_ARRIVED_AT_RESTAURANT'] = pd.to_datetime(df['TIME_DRIVER_ARRIVED_AT_RESTAURANT'], format='%H:%M:%S').dt.time\n",
    "\n",
    "df['TIME_TAKEN_BY_DRIVER_TO_ARRIVE_AT_THE_RESTAURANT_SECONDS'] = df.apply(calculate_time_difference, axis=1)\n",
    "\n",
    "df['TIME_TAKEN_BY_DRIVER_TO_ARRIVE_AT_THE_RESTAURANT_MINUTES'] = df['TIME_TAKEN_BY_DRIVER_TO_ARRIVE_AT_THE_RESTAURANT_SECONDS'] / 60\n",
    "\n",
    "df[['TIME_ORDER_PLACED_AT_RESTAURANT', 'TIME_DRIVER_ARRIVED_AT_RESTAURANT', 'TIME_TAKEN_BY_DRIVER_TO_ARRIVE_AT_THE_RESTAURANT_SECONDS', 'TIME_TAKEN_BY_DRIVER_TO_ARRIVE_AT_THE_RESTAURANT_MINUTES']].head()"
   ]
  },
  {
   "cell_type": "markdown",
   "id": "19a0758b-8201-41d4-920b-db0395741316",
   "metadata": {},
   "source": [
    "# Removing negative values"
   ]
  },
  {
   "cell_type": "code",
   "execution_count": 12,
   "id": "9b02bf0e-93fe-4b0d-b7e8-488483d4de4f",
   "metadata": {
    "tags": []
   },
   "outputs": [],
   "source": [
    "df = df[df['TIME_TAKEN_BY_DRIVER_TO_ARRIVE_AT_THE_RESTAURANT_MINUTES'] >= 0]"
   ]
  },
  {
   "cell_type": "code",
   "execution_count": 13,
   "id": "595200d1-a673-4733-88f4-1d98f79917fe",
   "metadata": {
    "tags": []
   },
   "outputs": [
    {
     "data": {
      "text/plain": [
       "count    51452.000000\n",
       "mean        23.199534\n",
       "std         28.935337\n",
       "min          0.016667\n",
       "25%         11.000000\n",
       "50%         17.475000\n",
       "75%         28.750000\n",
       "max       1430.566667\n",
       "Name: TIME_TAKEN_BY_DRIVER_TO_ARRIVE_AT_THE_RESTAURANT_MINUTES, dtype: float64"
      ]
     },
     "execution_count": 13,
     "metadata": {},
     "output_type": "execute_result"
    }
   ],
   "source": [
    "df[\"TIME_TAKEN_BY_DRIVER_TO_ARRIVE_AT_THE_RESTAURANT_MINUTES\"].describe()"
   ]
  },
  {
   "cell_type": "markdown",
   "id": "e209bd5a-20aa-4583-92f0-a070a7da143f",
   "metadata": {},
   "source": [
    "# Resetting the Index"
   ]
  },
  {
   "cell_type": "code",
   "execution_count": 14,
   "id": "f5cc91e0-8177-41bc-ad6f-5cc68b7ba63e",
   "metadata": {
    "tags": []
   },
   "outputs": [],
   "source": [
    "df.reset_index(drop=True, inplace=True)"
   ]
  },
  {
   "cell_type": "markdown",
   "id": "6f58cb1a-b870-4f73-a06d-d423d379312b",
   "metadata": {},
   "source": [
    "# Visualization and Analysis"
   ]
  },
  {
   "cell_type": "markdown",
   "id": "b9392296-83e1-4b12-8cb4-5464305a5d2a",
   "metadata": {},
   "source": [
    "## 1. Line Plot - Time taken by driver to arrive at the restaurant in minutes for each record/row"
   ]
  },
  {
   "cell_type": "code",
   "execution_count": 15,
   "id": "d0bbf17c-1556-481f-8389-af4b6f8a0c65",
   "metadata": {
    "tags": []
   },
   "outputs": [
    {
     "name": "stdout",
     "output_type": "stream",
     "text": [
      "Requirement already satisfied: seaborn in /Library/Frameworks/Python.framework/Versions/3.11/lib/python3.11/site-packages (0.12.2)\n",
      "Requirement already satisfied: numpy!=1.24.0,>=1.17 in /Library/Frameworks/Python.framework/Versions/3.11/lib/python3.11/site-packages (from seaborn) (1.25.2)\n",
      "Requirement already satisfied: pandas>=0.25 in /Library/Frameworks/Python.framework/Versions/3.11/lib/python3.11/site-packages (from seaborn) (2.0.3)\n",
      "Requirement already satisfied: matplotlib!=3.6.1,>=3.1 in /Library/Frameworks/Python.framework/Versions/3.11/lib/python3.11/site-packages (from seaborn) (3.7.2)\n",
      "Requirement already satisfied: contourpy>=1.0.1 in /Library/Frameworks/Python.framework/Versions/3.11/lib/python3.11/site-packages (from matplotlib!=3.6.1,>=3.1->seaborn) (1.1.0)\n",
      "Requirement already satisfied: cycler>=0.10 in /Library/Frameworks/Python.framework/Versions/3.11/lib/python3.11/site-packages (from matplotlib!=3.6.1,>=3.1->seaborn) (0.11.0)\n",
      "Requirement already satisfied: fonttools>=4.22.0 in /Library/Frameworks/Python.framework/Versions/3.11/lib/python3.11/site-packages (from matplotlib!=3.6.1,>=3.1->seaborn) (4.42.1)\n",
      "Requirement already satisfied: kiwisolver>=1.0.1 in /Library/Frameworks/Python.framework/Versions/3.11/lib/python3.11/site-packages (from matplotlib!=3.6.1,>=3.1->seaborn) (1.4.5)\n",
      "Requirement already satisfied: packaging>=20.0 in /Library/Frameworks/Python.framework/Versions/3.11/lib/python3.11/site-packages (from matplotlib!=3.6.1,>=3.1->seaborn) (23.1)\n",
      "Requirement already satisfied: pillow>=6.2.0 in /Library/Frameworks/Python.framework/Versions/3.11/lib/python3.11/site-packages (from matplotlib!=3.6.1,>=3.1->seaborn) (10.0.0)\n",
      "Requirement already satisfied: pyparsing<3.1,>=2.3.1 in /Library/Frameworks/Python.framework/Versions/3.11/lib/python3.11/site-packages (from matplotlib!=3.6.1,>=3.1->seaborn) (3.0.9)\n",
      "Requirement already satisfied: python-dateutil>=2.7 in /Library/Frameworks/Python.framework/Versions/3.11/lib/python3.11/site-packages (from matplotlib!=3.6.1,>=3.1->seaborn) (2.8.2)\n",
      "Requirement already satisfied: pytz>=2020.1 in /Library/Frameworks/Python.framework/Versions/3.11/lib/python3.11/site-packages (from pandas>=0.25->seaborn) (2023.3)\n",
      "Requirement already satisfied: tzdata>=2022.1 in /Library/Frameworks/Python.framework/Versions/3.11/lib/python3.11/site-packages (from pandas>=0.25->seaborn) (2023.3)\n",
      "Requirement already satisfied: six>=1.5 in /Library/Frameworks/Python.framework/Versions/3.11/lib/python3.11/site-packages (from python-dateutil>=2.7->matplotlib!=3.6.1,>=3.1->seaborn) (1.16.0)\n"
     ]
    },
    {
     "data": {
      "image/png": "[encoded data removed]",
      "text/plain": [
       "<Figure size 1000x600 with 1 Axes>"
      ]
     },
     "metadata": {},
     "output_type": "display_data"
    }
   ],
   "source": [
    "import matplotlib.pyplot as plt\n",
    "!pip3 install seaborn\n",
    "import seaborn as sns\n",
    "plt.figure(figsize=(10, 6))\n",
    "plt.plot(df[\"TIME_TAKEN_BY_DRIVER_TO_ARRIVE_AT_THE_RESTAURANT_MINUTES\"])\n",
    "plt.xlabel('Index')\n",
    "plt.ylabel('Time taken by driver to arrive at the restaurant (Minutes)')\n",
    "plt.title('Time taken by driver to arrive at the restaurant in minutes for each record/row')\n",
    "plt.show()"
   ]
  },
  {
   "cell_type": "markdown",
   "id": "e26fb027-a8a9-486d-818f-cc1a8fe13fa3",
   "metadata": {},
   "source": [
    "## 2. Histogram - Distribution of Time taken by driver to arrive at the restaurant"
   ]
  },
  {
   "cell_type": "code",
   "execution_count": 16,
   "id": "4504f35c-f357-431e-80ca-68af09b5eb6d",
   "metadata": {
    "tags": []
   },
   "outputs": [
    {
     "data": {
      "image/png": "[encoded data removed]",
      "text/plain": [
       "<Figure size 1000x600 with 1 Axes>"
      ]
     },
     "metadata": {},
     "output_type": "display_data"
    }
   ],
   "source": [
    "plt.figure(figsize=(10, 6))\n",
    "plt.hist(df['TIME_TAKEN_BY_DRIVER_TO_ARRIVE_AT_THE_RESTAURANT_MINUTES'], bins=100, edgecolor='k')\n",
    "plt.xlabel('Time taken by driver to arrive at the restaurant (Minutes)')\n",
    "plt.ylabel('Frequency')\n",
    "plt.title('Distribution of Time taken by driver to arrive at the restaurant')\n",
    "plt.show()"
   ]
  },
  {
   "cell_type": "markdown",
   "id": "e05fc50b-f146-4104-9068-143b0cb2c6f0",
   "metadata": {},
   "source": [
    "### Histogram with time in range of 0-100. We did not consider values after that range as there are very few values."
   ]
  },
  {
   "cell_type": "code",
   "execution_count": 17,
   "id": "4a891b8b-32b8-44e6-8e9e-3fd63559e028",
   "metadata": {},
   "outputs": [
    {
     "data": {
      "image/png": "[encoded data removed]",
      "text/plain": [
       "<Figure size 1000x600 with 1 Axes>"
      ]
     },
     "metadata": {},
     "output_type": "display_data"
    }
   ],
   "source": [
    "bins = range(0, 110, 10)\n",
    "plt.figure(figsize=(10, 6))\n",
    "n, bins, patches = plt.hist(df['TIME_TAKEN_BY_DRIVER_TO_ARRIVE_AT_THE_RESTAURANT_MINUTES'], bins=bins, edgecolor='k')\n",
    "\n",
    "total_count = len(df)\n",
    "for i, patch in enumerate(patches):\n",
    "    percentage = (n[i] / total_count) * 100\n",
    "    plt.text(patch.get_x() + patch.get_width() / 2, patch.get_height() + 5, f'{percentage:.2f}%', ha='center')\n",
    "\n",
    "plt.xlabel('Time taken by driver to arrive at the restaurant (Minutes)')\n",
    "plt.ylabel('Frequency')\n",
    "plt.title('Distribution of Time taken by driver to arrive at the restaurant')\n",
    "plt.xticks(bins)\n",
    "\n",
    "plt.show()"
   ]
  },
  {
   "cell_type": "markdown",
   "id": "445561bf-477e-4c2e-bf8f-fb0c447c9caf",
   "metadata": {},
   "source": [
    "# 3. Kernel Density Estimation \n",
    "\n",
    "The resulting KDE graph displays a smooth estimate of the probability density function (PDF) for the dataset. Here are some key points for interpretation:\n",
    "\n",
    "### Density: \n",
    "The y-axis represents the estimated density of the data at various points along the x-axis.\n",
    "### Peaks: \n",
    "Peaks in the KDE plot correspond to modes or clusters in the data.\n",
    "### Spread: \n",
    "The width of the KDE curve at any point indicates the level of spread or uncertainty in the data."
   ]
  },
  {
   "cell_type": "code",
   "execution_count": 18,
   "id": "e60a56d7-928b-48d4-9ed9-6ece8e2c29fd",
   "metadata": {
    "tags": []
   },
   "outputs": [
    {
     "data": {
      "image/png": "[encoded data removed]",
      "text/plain": [
       "<Figure size 1000x600 with 1 Axes>"
      ]
     },
     "metadata": {},
     "output_type": "display_data"
    }
   ],
   "source": [
    "plt.figure(figsize=(10, 6))\n",
    "sns.kdeplot(df['TIME_TAKEN_BY_DRIVER_TO_ARRIVE_AT_THE_RESTAURANT_MINUTES'], fill=True)\n",
    "plt.xlabel('Time taken by driver to arrive at the restaurant (Minutes)')\n",
    "plt.ylabel('Density')\n",
    "plt.title('Kernel Density Estimation (KDE)')\n",
    "plt.xticks(range(0, 101, 10)) \n",
    "plt.xlim(0, 100)\n",
    "plt.show()"
   ]
  },
  {
   "cell_type": "code",
   "execution_count": 19,
   "id": "2a3f9295-425a-43b8-995a-b9adce900324",
   "metadata": {
    "tags": []
   },
   "outputs": [
    {
     "data": {
      "text/plain": [
       "23.09"
      ]
     },
     "execution_count": 19,
     "metadata": {},
     "output_type": "execute_result"
    }
   ],
   "source": [
    "percentage_arriving_after_30_minutes = (len(df[df['TIME_TAKEN_BY_DRIVER_TO_ARRIVE_AT_THE_RESTAURANT_MINUTES'] > 30]) / len(df)) * 100\n",
    "percentage_arriving_after_30_minutes = round(percentage_arriving_after_30_minutes, 2)\n",
    "percentage_arriving_after_30_minutes"
   ]
  },
  {
   "cell_type": "markdown",
   "id": "87dbe241-6587-4c56-b243-4613560ad770",
   "metadata": {},
   "source": [
    "# Conclusion\n",
    "<p>To conclude, this project report aims to provide valuable insights into the intricate dynamics of meal pickups in the food delivery industry. By gaining a comprehensive understanding of the challenges and opportunities in this critical phase of the delivery process, food delivery platforms and restaurants can make informed decisions, implement effective strategies, and ultimately offer a more efficient and satisfying experience to their customers.</p>\n",
    "<p>After performing insighful ananlysis on the data we also conclude that 23.09% of the time drivers arrive 30 minutes late for food or order pick up from a restaurant after food is being prepared and ready for pick up.</p>"
   ]
  }
 ],
 "metadata": {
  "kernelspec": {
   "display_name": "Python 3 (ipykernel)",
   "language": "python",
   "name": "python3"
  },
  "language_info": {
   "codemirror_mode": {
    "name": "ipython",
    "version": 3
   },
   "file_extension": ".py",
   "mimetype": "text/x-python",
   "name": "python",
   "nbconvert_exporter": "python",
   "pygments_lexer": "ipython3",
   "version": "3.11.5"
  }
 },
 "nbformat": 4,
 "nbformat_minor": 5
}
